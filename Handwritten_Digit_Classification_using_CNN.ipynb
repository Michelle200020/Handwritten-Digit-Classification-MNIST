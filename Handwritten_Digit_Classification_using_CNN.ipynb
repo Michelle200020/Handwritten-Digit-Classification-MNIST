{
  "cells": [
    {
      "cell_type": "markdown",
      "id": "87a042de",
      "metadata": {
        "id": "87a042de"
      },
      "source": [
        "# To create a model for Image classification of Handwritten Digits from 0-9"
      ]
    },
    {
      "cell_type": "markdown",
      "id": "cdb533f6",
      "metadata": {
        "id": "cdb533f6"
      },
      "source": [
        "## Importing Libraries and Dataset"
      ]
    },
    {
      "cell_type": "code",
      "execution_count": null,
      "id": "1ce54d47",
      "metadata": {
        "id": "1ce54d47"
      },
      "outputs": [],
      "source": [
        "import tensorflow as tf"
      ]
    },
    {
      "cell_type": "code",
      "execution_count": null,
      "id": "6fa36411",
      "metadata": {
        "id": "6fa36411"
      },
      "outputs": [],
      "source": [
        "import numpy as np\n",
        "import pandas as pd\n",
        "import matplotlib.pyplot as plt\n",
        "%matplotlib inline"
      ]
    },
    {
      "cell_type": "code",
      "execution_count": null,
      "id": "71754acf",
      "metadata": {
        "id": "71754acf"
      },
      "outputs": [],
      "source": [
        "from tensorflow.keras.datasets import mnist #28x28 images of handwritten digits from 0-9\n",
        "(x_train, y_train), (x_test, y_test) = mnist.load_data()"
      ]
    },
    {
      "cell_type": "markdown",
      "id": "8a03b5f8",
      "metadata": {
        "id": "8a03b5f8"
      },
      "source": [
        "### Loading few images from the dataset"
      ]
    },
    {
      "cell_type": "code",
      "execution_count": null,
      "id": "1aad04b5",
      "metadata": {
        "id": "1aad04b5",
        "outputId": "e65c76f4-789f-475c-81b1-9599c9d452cc"
      },
      "outputs": [
        {
          "data": {
            "image/png": "[encoded data removed]",
            "text/plain": [
              "<Figure size 1080x1080 with 9 Axes>"
            ]
          },
          "metadata": {
            "needs_background": "light"
          },
          "output_type": "display_data"
        }
      ],
      "source": [
        "plt.figure(figsize=(15,15))\n",
        "plot=0\n",
        "for i in range(9):\n",
        "    plot+=1\n",
        "    ax=plt.subplot(3,3,plot)\n",
        "    plt.imshow(x_train[i], cmap=plt.cm.binary)"
      ]
    },
    {
      "cell_type": "code",
      "execution_count": null,
      "id": "21ea2090",
      "metadata": {
        "id": "21ea2090",
        "outputId": "6a2080f1-9026-4240-a46d-f9cf33e6bdda"
      },
      "outputs": [
        {
          "data": {
            "text/plain": [
              "(60000, 28, 28)"
            ]
          },
          "execution_count": 5,
          "metadata": {},
          "output_type": "execute_result"
        }
      ],
      "source": [
        "x_train.shape"
      ]
    },
    {
      "cell_type": "code",
      "execution_count": null,
      "id": "6f434641",
      "metadata": {
        "id": "6f434641",
        "outputId": "5218279d-19c8-40f1-c666-e1842b9c2804"
      },
      "outputs": [
        {
          "data": {
            "text/plain": [
              "(10000, 28, 28)"
            ]
          },
          "execution_count": 6,
          "metadata": {},
          "output_type": "execute_result"
        }
      ],
      "source": [
        "x_test.shape"
      ]
    },
    {
      "cell_type": "markdown",
      "id": "33eeff94",
      "metadata": {
        "id": "33eeff94"
      },
      "source": [
        "The max pixel value of the images is 255"
      ]
    },
    {
      "cell_type": "code",
      "execution_count": null,
      "id": "c3cadcaa",
      "metadata": {
        "id": "c3cadcaa",
        "outputId": "fa76e00a-6ea5-41eb-fbf4-61987481c586"
      },
      "outputs": [
        {
          "data": {
            "text/plain": [
              "255"
            ]
          },
          "execution_count": 7,
          "metadata": {},
          "output_type": "execute_result"
        }
      ],
      "source": [
        "x_train.max()"
      ]
    },
    {
      "cell_type": "markdown",
      "id": "ebdbeaf4",
      "metadata": {
        "id": "ebdbeaf4"
      },
      "source": [
        "## Standardizing the Data"
      ]
    },
    {
      "cell_type": "code",
      "execution_count": null,
      "id": "555984a4",
      "metadata": {
        "id": "555984a4"
      },
      "outputs": [],
      "source": [
        "x_train = tf.keras.utils.normalize(x_train, axis=1)\n",
        "x_test = tf.keras.utils.normalize(x_test, axis=1)"
      ]
    },
    {
      "cell_type": "markdown",
      "id": "642e7a67",
      "metadata": {
        "id": "642e7a67"
      },
      "source": [
        "The pixel values have been scaled from 0 to 1 which helps the neural network in faster data processing and thus reducing training time."
      ]
    },
    {
      "cell_type": "markdown",
      "id": "6c5372dc",
      "metadata": {
        "id": "6c5372dc"
      },
      "source": [
        "# Model"
      ]
    },
    {
      "cell_type": "code",
      "execution_count": null,
      "id": "66fd4bdc",
      "metadata": {
        "id": "66fd4bdc"
      },
      "outputs": [],
      "source": [
        "from tensorflow.keras import Sequential\n",
        "from tensorflow.keras.layers import Conv2D, MaxPool2D, Dense, Flatten, Dropout"
      ]
    },
    {
      "cell_type": "code",
      "execution_count": null,
      "id": "f5151153",
      "metadata": {
        "id": "f5151153",
        "outputId": "e8348520-4b4e-417a-cda7-ee05789e4de2"
      },
      "outputs": [
        {
          "data": {
            "text/plain": [
              "'2.9.1'"
            ]
          },
          "execution_count": 10,
          "metadata": {},
          "output_type": "execute_result"
        }
      ],
      "source": [
        "tf.__version__"
      ]
    },
    {
      "cell_type": "markdown",
      "id": "23057076",
      "metadata": {
        "id": "23057076"
      },
      "source": [
        "Creating a 3 dimensional input array as expected by tensorflow"
      ]
    },
    {
      "cell_type": "code",
      "execution_count": null,
      "id": "899f3850",
      "metadata": {
        "id": "899f3850"
      },
      "outputs": [],
      "source": [
        "x_train = x_train.reshape(60000,28,28,1) #(number of obs, rows, columns, channel)\n",
        "x_test = x_test.reshape(10000,28,28,1)"
      ]
    },
    {
      "cell_type": "markdown",
      "id": "9ed49dc8",
      "metadata": {
        "id": "9ed49dc8"
      },
      "source": [
        "## CNN Architecture"
      ]
    },
    {
      "cell_type": "code",
      "execution_count": null,
      "id": "325a64d3",
      "metadata": {
        "id": "325a64d3"
      },
      "outputs": [],
      "source": [
        "model = Sequential()\n",
        "\n",
        "#CNN\n",
        "\n",
        "#First convolutional layer\n",
        "model.add(Conv2D(filters=32, kernel_size = (3,3), activation='relu',input_shape=(28,28,1) ))\n",
        "\n",
        "#First Max Pool Layer\n",
        "model.add(MaxPool2D(2,2))\n",
        "\n",
        "#Second Convolutional layer\n",
        "model.add(Conv2D(filters=64, kernel_size = (3,3), activation='relu' ))\n",
        "\n",
        "#Second Max Pool Layer\n",
        "model.add(MaxPool2D(2,2))\n",
        "\n",
        "#Dropout layer to regularize network and to avoid overfitting\n",
        "model.add(Dropout(0.25)) #25% of neurons will be randomly dropped while moving to next layer\n",
        "\n",
        "#Flattening layer\n",
        "model.add(Flatten())\n",
        "\n",
        "\n",
        "#BASIC NEURAL NETWORK\n",
        "\n",
        "#Dense Layer\n",
        "model.add(Dense(units=128, activation='relu'))\n",
        "\n",
        "#Dropout Layer\n",
        "model.add(Dropout(0.50))\n",
        "\n",
        "model.add(Dense(units=10, activation='softmax'))\n",
        "\n"
      ]
    },
    {
      "cell_type": "code",
      "execution_count": null,
      "id": "f739a651",
      "metadata": {
        "id": "f739a651",
        "outputId": "833c94b5-0acf-4631-8172-7a2eea3b8fb9"
      },
      "outputs": [
        {
          "name": "stdout",
          "output_type": "stream",
          "text": [
            "Model: \"sequential\"\n",
            "_________________________________________________________________\n",
            " Layer (type)                Output Shape              Param #   \n",
            "=================================================================\n",
            " conv2d (Conv2D)             (None, 26, 26, 32)        320       \n",
            "                                                                 \n",
            " max_pooling2d (MaxPooling2D  (None, 13, 13, 32)       0         \n",
            " )                                                               \n",
            "                                                                 \n",
            " conv2d_1 (Conv2D)           (None, 11, 11, 64)        18496     \n",
            "                                                                 \n",
            " max_pooling2d_1 (MaxPooling  (None, 5, 5, 64)         0         \n",
            " 2D)                                                             \n",
            "                                                                 \n",
            " dropout (Dropout)           (None, 5, 5, 64)          0         \n",
            "                                                                 \n",
            " flatten (Flatten)           (None, 1600)              0         \n",
            "                                                                 \n",
            " dense (Dense)               (None, 128)               204928    \n",
            "                                                                 \n",
            " dropout_1 (Dropout)         (None, 128)               0         \n",
            "                                                                 \n",
            " dense_1 (Dense)             (None, 10)                1290      \n",
            "                                                                 \n",
            "=================================================================\n",
            "Total params: 225,034\n",
            "Trainable params: 225,034\n",
            "Non-trainable params: 0\n",
            "_________________________________________________________________\n"
          ]
        }
      ],
      "source": [
        "model.summary()"
      ]
    },
    {
      "cell_type": "markdown",
      "id": "74f40778",
      "metadata": {
        "id": "74f40778"
      },
      "source": [
        "## Compiling Model\n",
        "Configures the model for training."
      ]
    },
    {
      "cell_type": "code",
      "execution_count": null,
      "id": "d967ebab",
      "metadata": {
        "id": "d967ebab"
      },
      "outputs": [],
      "source": [
        "model.compile(loss='sparse_categorical_crossentropy', optimizer='adam', metrics=['accuracy'])"
      ]
    },
    {
      "cell_type": "markdown",
      "id": "7868ec7b",
      "metadata": {
        "id": "7868ec7b"
      },
      "source": [
        "## Fitting and Saving the Model"
      ]
    },
    {
      "cell_type": "markdown",
      "id": "e08c5749",
      "metadata": {
        "id": "e08c5749"
      },
      "source": [
        "ModelCheckpoint callback is used in conjunction with training using model.fit () to save the best model or weights (in a checkpoint file) that can be loaded later to continue the training from the state saved."
      ]
    },
    {
      "cell_type": "code",
      "execution_count": null,
      "id": "f9e1309a",
      "metadata": {
        "id": "f9e1309a",
        "outputId": "aab86b72-79b3-425d-e2dd-e177158c4bcb"
      },
      "outputs": [
        {
          "name": "stdout",
          "output_type": "stream",
          "text": [
            "Epoch 1/10\n",
            "469/469 [==============================] - 27s 56ms/step - loss: 0.3809 - accuracy: 0.8842 - val_loss: 0.0823 - val_accuracy: 0.9746\n",
            "Epoch 2/10\n",
            "469/469 [==============================] - 27s 57ms/step - loss: 0.1284 - accuracy: 0.9615 - val_loss: 0.0551 - val_accuracy: 0.9821\n",
            "Epoch 3/10\n",
            "469/469 [==============================] - 26s 55ms/step - loss: 0.0939 - accuracy: 0.9724 - val_loss: 0.0394 - val_accuracy: 0.9880\n",
            "Epoch 4/10\n",
            "469/469 [==============================] - 23s 49ms/step - loss: 0.0768 - accuracy: 0.9764 - val_loss: 0.0393 - val_accuracy: 0.9882\n",
            "Epoch 5/10\n",
            "469/469 [==============================] - 23s 49ms/step - loss: 0.0673 - accuracy: 0.9790 - val_loss: 0.0310 - val_accuracy: 0.9904\n",
            "Epoch 6/10\n",
            "469/469 [==============================] - 24s 51ms/step - loss: 0.0601 - accuracy: 0.9819 - val_loss: 0.0309 - val_accuracy: 0.9891\n",
            "Epoch 7/10\n",
            "469/469 [==============================] - 24s 50ms/step - loss: 0.0517 - accuracy: 0.9842 - val_loss: 0.0292 - val_accuracy: 0.9907\n",
            "Epoch 8/10\n",
            "469/469 [==============================] - 24s 51ms/step - loss: 0.0491 - accuracy: 0.9857 - val_loss: 0.0285 - val_accuracy: 0.9908\n",
            "Epoch 9/10\n",
            "469/469 [==============================] - 25s 52ms/step - loss: 0.0429 - accuracy: 0.9866 - val_loss: 0.0257 - val_accuracy: 0.9911\n",
            "Epoch 10/10\n",
            "469/469 [==============================] - 25s 53ms/step - loss: 0.0423 - accuracy: 0.9868 - val_loss: 0.0251 - val_accuracy: 0.9916\n"
          ]
        }
      ],
      "source": [
        "callbacks = [\n",
        "    tf.keras.callbacks.ModelCheckpoint(\n",
        "        filepath=\"handwritten_digit_cnn_model.keras\", # path to save the model file\n",
        "        save_best_only=True,\n",
        "        monitor=\"val_loss\")\n",
        "]\n",
        "\n",
        "history = model.fit(x_train,y_train,\n",
        "                    batch_size=128,\n",
        "                    epochs=10,\n",
        "                    verbose=1,\n",
        "                    validation_data=(x_test,y_test),\n",
        "                    callbacks=callbacks)"
      ]
    },
    {
      "cell_type": "markdown",
      "id": "09f74644",
      "metadata": {
        "id": "09f74644"
      },
      "source": [
        "## Model Evaluation"
      ]
    },
    {
      "cell_type": "code",
      "execution_count": null,
      "id": "1a469659",
      "metadata": {
        "id": "1a469659",
        "outputId": "1cca1e57-7379-407f-f653-376a62dbff8c"
      },
      "outputs": [
        {
          "name": "stdout",
          "output_type": "stream",
          "text": [
            "313/313 [==============================] - 1s 5ms/step - loss: 0.0251 - accuracy: 0.9916\n",
            "Test accuracy: 0.992\n",
            "Test loss: 0.025\n"
          ]
        }
      ],
      "source": [
        "test_loss, test_acc = model.evaluate(x_test,y_test)\n",
        "print(f\"Test accuracy: {test_acc:.3f}\\nTest loss: {test_loss:.3f}\")"
      ]
    },
    {
      "cell_type": "code",
      "execution_count": null,
      "id": "9bb399f9",
      "metadata": {
        "id": "9bb399f9",
        "outputId": "07978968-bb3b-44f6-c60b-6f4d25237efe"
      },
      "outputs": [
        {
          "name": "stdout",
          "output_type": "stream",
          "text": [
            "313/313 [==============================] - 1s 4ms/step\n"
          ]
        }
      ],
      "source": [
        "y_pred=model.predict(x_test)\n",
        "y_pred =[np.argmax(i) for i in y_pred]\n"
      ]
    },
    {
      "cell_type": "code",
      "execution_count": null,
      "id": "b9428428",
      "metadata": {
        "id": "b9428428",
        "outputId": "95896054-c107-4790-9940-df86e35a2205"
      },
      "outputs": [
        {
          "data": {
            "text/plain": [
              "<tf.Tensor: shape=(10, 10), dtype=int32, numpy=\n",
              "array([[ 977,    0,    1,    0,    0,    0,    1,    1,    0,    0],\n",
              "       [   0, 1133,    1,    1,    0,    0,    0,    0,    0,    0],\n",
              "       [   2,    0, 1024,    0,    0,    0,    0,    5,    1,    0],\n",
              "       [   0,    0,    1, 1003,    0,    4,    0,    1,    1,    0],\n",
              "       [   0,    0,    0,    0,  978,    0,    0,    0,    0,    4],\n",
              "       [   2,    0,    0,    5,    0,  883,    1,    1,    0,    0],\n",
              "       [   4,    2,    0,    0,    1,    2,  949,    0,    0,    0],\n",
              "       [   0,    4,    3,    0,    0,    0,    0, 1018,    1,    2],\n",
              "       [   2,    0,    3,    1,    0,    1,    0,    3,  961,    3],\n",
              "       [   3,    2,    0,    1,    5,    7,    0,    1,    0,  990]])>"
            ]
          },
          "execution_count": 18,
          "metadata": {},
          "output_type": "execute_result"
        }
      ],
      "source": [
        "\n",
        "cm= tf.math.confusion_matrix(labels=y_test, predictions=y_pred)\n",
        "cm"
      ]
    },
    {
      "cell_type": "code",
      "execution_count": null,
      "id": "98930925",
      "metadata": {
        "id": "98930925",
        "outputId": "167cb0e2-2733-466a-89c3-da1202d9bb5f"
      },
      "outputs": [
        {
          "data": {
            "text/plain": [
              "Text(69.0, 0.5, 'True')"
            ]
          },
          "execution_count": 19,
          "metadata": {},
          "output_type": "execute_result"
        },
        {
          "data": {
            "image/png": "[encoded data removed]",
            "text/plain": [
              "<Figure size 720x504 with 2 Axes>"
            ]
          },
          "metadata": {
            "needs_background": "light"
          },
          "output_type": "display_data"
        }
      ],
      "source": [
        "import seaborn as sns\n",
        "plt.figure(figsize=(10,7))\n",
        "sns.heatmap(cm, annot=True, fmt='d')\n",
        "plt.xlabel(\"Predicted\")\n",
        "plt.ylabel(\"True\")"
      ]
    },
    {
      "cell_type": "markdown",
      "id": "dac1879a",
      "metadata": {
        "id": "dac1879a"
      },
      "source": [
        "The above heatmap helps us better visualize the confusion matrix. The values with warm colours show that the true positives i.e correct digit predictions is very high for our model as comapred to the number of misclassifications. Thus we can conclude that our model performs extremely well."
      ]
    },
    {
      "cell_type": "code",
      "execution_count": null,
      "id": "a427bff2",
      "metadata": {
        "id": "a427bff2",
        "outputId": "aeed1ed9-7330-493e-b528-5bc27bb921a1"
      },
      "outputs": [
        {
          "data": {
            "image/png": "[encoded data removed]",
            "text/plain": [
              "<Figure size 432x288 with 1 Axes>"
            ]
          },
          "metadata": {
            "needs_background": "light"
          },
          "output_type": "display_data"
        },
        {
          "data": {
            "image/png": "[encoded data removed]",
            "text/plain": [
              "<Figure size 432x288 with 1 Axes>"
            ]
          },
          "metadata": {
            "needs_background": "light"
          },
          "output_type": "display_data"
        }
      ],
      "source": [
        "accuracy = history.history[\"accuracy\"]\n",
        "val_accuracy = history.history[\"val_accuracy\"]\n",
        "loss = history.history[\"loss\"]\n",
        "val_loss = history.history[\"val_loss\"]\n",
        "epochs = range(1, len(accuracy) + 1)\n",
        "plt.plot(epochs, accuracy, \"r\", label=\"Training accuracy\")\n",
        "plt.plot(epochs, val_accuracy, \"b\", label=\"Validation accuracy\")\n",
        "plt.title(\"Training and validation accuracy\")\n",
        "plt.xlabel(\"epochs\")\n",
        "plt.ylabel(\"accuracy\")\n",
        "plt.legend()\n",
        "plt.figure()\n",
        "plt.plot(epochs, loss, \"r\", label=\"Training loss\")\n",
        "plt.plot(epochs, val_loss, \"b\", label=\"Validation loss\")\n",
        "plt.title(\"Training and validation loss\")\n",
        "plt.xlabel(\"epochs\")\n",
        "plt.ylabel(\"loss\")\n",
        "plt.legend()\n",
        "plt.show()"
      ]
    },
    {
      "cell_type": "markdown",
      "id": "b2c8527d",
      "metadata": {
        "id": "b2c8527d"
      },
      "source": [
        "We can see that the for the training set accuracy shoots up and loss falls down after 2 epochs which continues to reach a stable path by 10 epochs. The validation dataset shows a smoother slow incline for accuracy and decline for loss as the epochs increase. These graphs show that are model performance is excellent."
      ]
    },
    {
      "cell_type": "markdown",
      "id": "6d4412c9",
      "metadata": {
        "id": "6d4412c9"
      },
      "source": [
        "## Loading the Model"
      ]
    },
    {
      "cell_type": "code",
      "execution_count": null,
      "id": "f5fae198",
      "metadata": {
        "id": "f5fae198"
      },
      "outputs": [],
      "source": [
        "test_model = tf.keras.models.load_model(\"handwritten_digit_cnn_model.keras\")\n",
        "\n"
      ]
    },
    {
      "cell_type": "markdown",
      "id": "2ac8fd73",
      "metadata": {
        "id": "2ac8fd73"
      },
      "source": [
        "## Testing the model with digits I wrote"
      ]
    },
    {
      "cell_type": "markdown",
      "id": "810788b1",
      "metadata": {
        "id": "810788b1"
      },
      "source": [
        "Using paint, I wrote a few digits, converted it into images and ran it through the model. The results are as follows."
      ]
    },
    {
      "cell_type": "markdown",
      "id": "be610cfc",
      "metadata": {
        "id": "be610cfc"
      },
      "source": [
        "![Digit-2.png](attachment:Digit-2.png)"
      ]
    },
    {
      "cell_type": "code",
      "execution_count": null,
      "id": "2acb63cd",
      "metadata": {
        "id": "2acb63cd",
        "outputId": "02423c0f-fabc-490c-9429-d8d424d5e82d"
      },
      "outputs": [
        {
          "name": "stdout",
          "output_type": "stream",
          "text": [
            "1/1 [==============================] - 0s 18ms/step\n"
          ]
        }
      ],
      "source": [
        "img = tf.keras.preprocessing.image.load_img(\n",
        "    \"Digit-2.png\", target_size=(28,28,1), color_mode=\"grayscale\"\n",
        ")\n",
        "img_array = tf.keras.preprocessing.image.img_to_array(img)\n",
        "img_array = tf.keras.utils.normalize(img_array)\n",
        "img_array = tf.expand_dims(img_array, 0)  # Create batch axis\n",
        "predictions = test_model.predict(img_array)"
      ]
    },
    {
      "cell_type": "code",
      "execution_count": null,
      "id": "b44f3c21",
      "metadata": {
        "id": "b44f3c21",
        "outputId": "ef3464f1-56b4-42ca-89b5-69b71412a203"
      },
      "outputs": [
        {
          "name": "stdout",
          "output_type": "stream",
          "text": [
            "The CNN model predicts the above image to be 2\n"
          ]
        }
      ],
      "source": [
        "print(f\"The CNN model predicts the above image to be {np.argmax(predictions[0])}\")"
      ]
    },
    {
      "cell_type": "markdown",
      "id": "e3029fc9",
      "metadata": {
        "id": "e3029fc9"
      },
      "source": [
        "![Digit-8.png](attachment:Digit-8.png)\n"
      ]
    },
    {
      "cell_type": "code",
      "execution_count": null,
      "id": "a85a2913",
      "metadata": {
        "id": "a85a2913",
        "outputId": "fd506f89-30a7-4244-ced3-d9f40f421277"
      },
      "outputs": [
        {
          "name": "stdout",
          "output_type": "stream",
          "text": [
            "1/1 [==============================] - 0s 17ms/step\n"
          ]
        }
      ],
      "source": [
        "img = tf.keras.preprocessing.image.load_img(\n",
        "    \"Digit-8.png\", target_size=(28,28,1), color_mode=\"grayscale\"\n",
        ")\n",
        "img_array = tf.keras.preprocessing.image.img_to_array(img)\n",
        "img_array = tf.keras.utils.normalize(img_array)\n",
        "img_array = tf.expand_dims(img_array, 0)  # Create batch axis\n",
        "predictions = test_model.predict(img_array)"
      ]
    },
    {
      "cell_type": "code",
      "execution_count": null,
      "id": "b2be5e50",
      "metadata": {
        "id": "b2be5e50",
        "outputId": "cd79755c-5a6b-4fd6-fc36-d55bdabcda13"
      },
      "outputs": [
        {
          "name": "stdout",
          "output_type": "stream",
          "text": [
            "The CNN model predicts the above image to be 8\n"
          ]
        }
      ],
      "source": [
        "print(f\"The CNN model predicts the above image to be {np.argmax(predictions[0])}\")"
      ]
    },
    {
      "cell_type": "markdown",
      "id": "8061aff8",
      "metadata": {
        "id": "8061aff8"
      },
      "source": [
        "![Digit-7.png](attachment:Digit-7.png)"
      ]
    },
    {
      "cell_type": "code",
      "execution_count": null,
      "id": "2a7f6161",
      "metadata": {
        "id": "2a7f6161",
        "outputId": "6c7743b3-ff5c-44f3-bb68-c271a296828b"
      },
      "outputs": [
        {
          "name": "stdout",
          "output_type": "stream",
          "text": [
            "1/1 [==============================] - 0s 19ms/step\n"
          ]
        }
      ],
      "source": [
        "img = tf.keras.preprocessing.image.load_img(\n",
        "    \"Digit-7.png\", target_size=(28,28,1), color_mode=\"grayscale\"\n",
        ")\n",
        "img_array = tf.keras.preprocessing.image.img_to_array(img)\n",
        "img_array = tf.keras.utils.normalize(img_array)\n",
        "img_array = tf.expand_dims(img_array, 0)  # Create batch axis\n",
        "predictions = test_model.predict(img_array)"
      ]
    },
    {
      "cell_type": "code",
      "execution_count": null,
      "id": "a202d0bd",
      "metadata": {
        "id": "a202d0bd",
        "outputId": "8549555d-2e13-4f09-a10c-1a384b67cc86"
      },
      "outputs": [
        {
          "name": "stdout",
          "output_type": "stream",
          "text": [
            "The CNN model predicts the above image to be 7\n"
          ]
        }
      ],
      "source": [
        "print(f\"The CNN model predicts the above image to be {np.argmax(predictions[0])}\")"
      ]
    },
    {
      "cell_type": "markdown",
      "id": "580b87a4",
      "metadata": {
        "id": "580b87a4"
      },
      "source": [
        "## Thus our model was correctly able to predict the digits I had written."
      ]
    },
    {
      "cell_type": "code",
      "execution_count": null,
      "id": "0f9229d2",
      "metadata": {
        "id": "0f9229d2"
      },
      "outputs": [],
      "source": []
    }
  ],
  "metadata": {
    "kernelspec": {
      "display_name": "Python 3 (ipykernel)",
      "language": "python",
      "name": "python3"
    },
    "language_info": {
      "codemirror_mode": {
        "name": "ipython",
        "version": 3
      },
      "file_extension": ".py",
      "mimetype": "text/x-python",
      "name": "python",
      "nbconvert_exporter": "python",
      "pygments_lexer": "ipython3",
      "version": "3.9.7"
    },
    "colab": {
      "provenance": []
    }
  },
  "nbformat": 4,
  "nbformat_minor": 5
}